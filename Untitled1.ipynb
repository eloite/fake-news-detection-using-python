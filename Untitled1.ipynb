{
 "cells": [
  {
   "cell_type": "code",
   "execution_count": null,
   "id": "a4f95a54-0df2-4f97-9d4b-c18266b273ec",
   "metadata": {},
   "outputs": [],
   "source": [
    "import pandas as pd\n",
    "from sklearn.feature_extraction.text import CountVectorizer\n",
    "from sklearn.model_selection import train_test_split\n",
    "from sklearn.naive_bayes import MultinomialNB\n",
    "from sklearn.metrics import accuracy_score\n",
    "\n",
    "# Step 1: Load and preprocess the data\n",
    "data = pd.read_csv(\"fannycsv.csv\")  # Assuming you have a CSV file with news data\n",
    "X = data['text']  # News text\n",
    "y = data['label']  # News label (0 for real news, 1 for fake news)\n",
    "\n",
    "# Step 2: Split the data into training and testing sets\n",
    "X_train, X_test, y_train, y_test = train_test_split(X, y, test_size=0.2, random_state=42)\n",
    "\n",
    "# Step 3: Extract features from text using CountVectorizer\n",
    "vectorizer = CountVectorizer(stop_words='english')\n",
    "X_train_vec = vectorizer.fit_transform(X_train)\n",
    "X_test_vec = vectorizer.transform(X_test)\n",
    "\n",
    "# Step 4: Train a classifier (Naive Bayes in this example)\n",
    "classifier = MultinomialNB()\n",
    "classifier.fit(X_train_vec, y_train)\n",
    "\n",
    "# Step 5: Make predictions on the test set\n",
    "y_pred = classifier.predict(X_test_vec)\n",
    "\n",
    "# Step 6: Evaluate the model\n",
    "accuracy = accuracy_score(y_test, y_pred)\n",
    "print(f\"Accuracy: {accuracy}\")\n",
    "\n",
    "# Step 7: Classify new news articles\n",
    "new_articles = [\n",
    "    \"New article about politics\",\n",
    "    \"Exciting discovery in science\",\n",
    "    \"Breaking news: Earthquake reported\"\n",
    "]\n",
    "\n",
    "# Vectorize and predict the labels for new articles\n",
    "new_articles_vec = vectorizer.transform(new_articles)\n",
    "new_articles_pred = classifier.predict(new_articles_vec)\n",
    "\n",
    "for article, label in zip(new_articles, new_articles_pred):\n",
    "    if label == 0:\n",
    "        print(f\"'{article}' is classified as REAL news.\")\n",
    "    else:\n",
    "        print(f\"'{article}' is classified as FAKE news.\")\n"
   ]
  },
  {
   "cell_type": "code",
   "execution_count": null,
   "id": "ddb794bd-6b06-4fbe-aa0a-44bf614a0c13",
   "metadata": {},
   "outputs": [],
   "source": []
  },
  {
   "cell_type": "code",
   "execution_count": null,
   "id": "a15920da-41e7-492d-823e-f70a94f58b0f",
   "metadata": {},
   "outputs": [],
   "source": []
  },
  {
   "cell_type": "code",
   "execution_count": null,
   "id": "4deec224-679d-4778-ab6e-5f647ce582dc",
   "metadata": {},
   "outputs": [],
   "source": []
  }
 ],
 "metadata": {
  "kernelspec": {
   "display_name": "Python 3 (Intel® oneAPI 2023.1)",
   "language": "python",
   "name": "c009-intel_distribution_of_python_3_oneapi-beta05-python"
  },
  "language_info": {
   "codemirror_mode": {
    "name": "ipython",
    "version": 3
   },
   "file_extension": ".py",
   "mimetype": "text/x-python",
   "name": "python",
   "nbconvert_exporter": "python",
   "pygments_lexer": "ipython3",
   "version": "3.9.16"
  }
 },
 "nbformat": 4,
 "nbformat_minor": 5
}
